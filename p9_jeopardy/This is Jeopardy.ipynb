{
 "cells": [
  {
   "cell_type": "markdown",
   "metadata": {},
   "source": [
    "# This is Jeopardy!"
   ]
  },
  {
   "cell_type": "markdown",
   "metadata": {},
   "source": [
    "#### Overview"
   ]
  },
  {
   "cell_type": "markdown",
   "metadata": {},
   "source": [
    "This project is slightly different than others you have encountered thus far. Instead of a step-by-step tutorial, this project contains a series of open-ended requirements which describe the project you'll be building. There are many possible ways to correctly fulfill all of these requirements, and you should expect to use the internet, Codecademy, and/or other resources when you encounter a problem that you cannot easily solve."
   ]
  },
  {
   "cell_type": "markdown",
   "metadata": {},
   "source": [
    "#### Project Goals"
   ]
  },
  {
   "cell_type": "markdown",
   "metadata": {},
   "source": [
    "You will work to write several functions that investigate a dataset of _Jeopardy!_ questions and answers. Filter the dataset for topics that you're interested in, compute the average difficulty of those questions, and train to become the next Jeopardy champion!"
   ]
  },
  {
   "cell_type": "markdown",
   "metadata": {},
   "source": [
    "## Prerequisites"
   ]
  },
  {
   "cell_type": "markdown",
   "metadata": {},
   "source": [
    "In order to complete this project, you should have completed the Pandas lessons in the <a href=\"https://www.codecademy.com/learn/paths/analyze-data-with-python\">Analyze Data with Python Skill Path</a>. You can also find those lessons in the <a href=\"https://www.codecademy.com/learn/data-processing-pandas\">Data Analysis with Pandas course</a> or the <a href=\"https://www.codecademy.com/learn/paths/data-science/\">Data Scientist Career Path</a>.\n",
    "\n",
    "Finally, the <a href=\"https://www.codecademy.com/learn/practical-data-cleaning\">Practical Data Cleaning</a> course may also be helpful."
   ]
  },
  {
   "cell_type": "markdown",
   "metadata": {},
   "source": [
    "## Project Requirements"
   ]
  },
  {
   "cell_type": "markdown",
   "metadata": {},
   "source": [
    "1. We've provided a csv file containing data about the game show _Jeopardy!_ in a file named `jeopardy.csv`. Load the data into a DataFrame and investigate its contents. Try to print out specific columns.\n",
    "\n",
    "   Note that in order to make this project as \"real-world\" as possible, we haven't modified the data at all - we're giving it to you exactly how we found it. As a result, this data isn't as \"clean\" as the datasets you normally find on Codecademy. More specifically, there's something odd about the column names. After you figure out the problem with the column names, you may want to rename them to make your life easier for the rest of the project.\n",
    "   \n",
    "   In order to display the full contents of a column, we've added this line of code for you:\n",
    "   \n",
    "   ```py\n",
    "   pd.set_option('display.max_colwidth', None)\n",
    "   ```"
   ]
  },
  {
   "cell_type": "code",
   "execution_count": 7,
   "metadata": {},
   "outputs": [
    {
     "name": "stdout",
     "output_type": "stream",
     "text": [
      "<class 'pandas.core.frame.DataFrame'>\n",
      "RangeIndex: 216930 entries, 0 to 216929\n",
      "Data columns (total 7 columns):\n",
      " #   Column       Non-Null Count   Dtype \n",
      "---  ------       --------------   ----- \n",
      " 0   Show Number  216930 non-null  int64 \n",
      " 1    Air Date    216930 non-null  object\n",
      " 2    Round       216930 non-null  object\n",
      " 3    Category    216930 non-null  object\n",
      " 4    Value       213296 non-null  object\n",
      " 5    Question    216930 non-null  object\n",
      " 6    Answer      216927 non-null  object\n",
      "dtypes: int64(1), object(6)\n",
      "memory usage: 11.6+ MB\n",
      "None\n",
      "Index(['Show Number', ' Air Date', ' Round', ' Category', ' Value',\n",
      "       ' Question', ' Answer'],\n",
      "      dtype='object')\n"
     ]
    }
   ],
   "source": [
    "import pandas as pd\n",
    "pd.set_option('display.max_colwidth', None)\n",
    "df_jeopardy = pd.read_csv('jeopardy.csv')\n",
    "print(df_jeopardy.info())\n",
    "print(df_jeopardy.columns)"
   ]
  },
  {
   "cell_type": "code",
   "execution_count": 10,
   "metadata": {},
   "outputs": [
    {
     "name": "stdout",
     "output_type": "stream",
     "text": [
      "Index(['Show Number', 'Air Date', 'Round', 'Category', 'Value', 'Question',\n",
      "       'Answer'],\n",
      "      dtype='object')\n"
     ]
    },
    {
     "data": {
      "text/html": [
       "<div>\n",
       "<style scoped>\n",
       "    .dataframe tbody tr th:only-of-type {\n",
       "        vertical-align: middle;\n",
       "    }\n",
       "\n",
       "    .dataframe tbody tr th {\n",
       "        vertical-align: top;\n",
       "    }\n",
       "\n",
       "    .dataframe thead th {\n",
       "        text-align: right;\n",
       "    }\n",
       "</style>\n",
       "<table border=\"1\" class=\"dataframe\">\n",
       "  <thead>\n",
       "    <tr style=\"text-align: right;\">\n",
       "      <th></th>\n",
       "      <th>Show Number</th>\n",
       "      <th>Air Date</th>\n",
       "      <th>Round</th>\n",
       "      <th>Category</th>\n",
       "      <th>Value</th>\n",
       "      <th>Question</th>\n",
       "      <th>Answer</th>\n",
       "    </tr>\n",
       "  </thead>\n",
       "  <tbody>\n",
       "    <tr>\n",
       "      <th>0</th>\n",
       "      <td>4680</td>\n",
       "      <td>2004-12-31</td>\n",
       "      <td>Jeopardy!</td>\n",
       "      <td>HISTORY</td>\n",
       "      <td>$200</td>\n",
       "      <td>For the last 8 years of his life, Galileo was under house arrest for espousing this man's theory</td>\n",
       "      <td>Copernicus</td>\n",
       "    </tr>\n",
       "    <tr>\n",
       "      <th>1</th>\n",
       "      <td>4680</td>\n",
       "      <td>2004-12-31</td>\n",
       "      <td>Jeopardy!</td>\n",
       "      <td>ESPN's TOP 10 ALL-TIME ATHLETES</td>\n",
       "      <td>$200</td>\n",
       "      <td>No. 2: 1912 Olympian; football star at Carlisle Indian School; 6 MLB seasons with the Reds, Giants &amp; Braves</td>\n",
       "      <td>Jim Thorpe</td>\n",
       "    </tr>\n",
       "    <tr>\n",
       "      <th>2</th>\n",
       "      <td>4680</td>\n",
       "      <td>2004-12-31</td>\n",
       "      <td>Jeopardy!</td>\n",
       "      <td>EVERYBODY TALKS ABOUT IT...</td>\n",
       "      <td>$200</td>\n",
       "      <td>The city of Yuma in this state has a record average of 4,055 hours of sunshine each year</td>\n",
       "      <td>Arizona</td>\n",
       "    </tr>\n",
       "    <tr>\n",
       "      <th>3</th>\n",
       "      <td>4680</td>\n",
       "      <td>2004-12-31</td>\n",
       "      <td>Jeopardy!</td>\n",
       "      <td>THE COMPANY LINE</td>\n",
       "      <td>$200</td>\n",
       "      <td>In 1963, live on \"The Art Linkletter Show\", this company served its billionth burger</td>\n",
       "      <td>McDonald's</td>\n",
       "    </tr>\n",
       "    <tr>\n",
       "      <th>4</th>\n",
       "      <td>4680</td>\n",
       "      <td>2004-12-31</td>\n",
       "      <td>Jeopardy!</td>\n",
       "      <td>EPITAPHS &amp; TRIBUTES</td>\n",
       "      <td>$200</td>\n",
       "      <td>Signer of the Dec. of Indep., framer of the Constitution of Mass., second President of the United States</td>\n",
       "      <td>John Adams</td>\n",
       "    </tr>\n",
       "    <tr>\n",
       "      <th>5</th>\n",
       "      <td>4680</td>\n",
       "      <td>2004-12-31</td>\n",
       "      <td>Jeopardy!</td>\n",
       "      <td>3-LETTER WORDS</td>\n",
       "      <td>$200</td>\n",
       "      <td>In the title of an Aesop fable, this insect shared billing with a grasshopper</td>\n",
       "      <td>the ant</td>\n",
       "    </tr>\n",
       "    <tr>\n",
       "      <th>6</th>\n",
       "      <td>4680</td>\n",
       "      <td>2004-12-31</td>\n",
       "      <td>Jeopardy!</td>\n",
       "      <td>HISTORY</td>\n",
       "      <td>$400</td>\n",
       "      <td>Built in 312 B.C. to link Rome &amp; the South of Italy, it's still in use today</td>\n",
       "      <td>the Appian Way</td>\n",
       "    </tr>\n",
       "    <tr>\n",
       "      <th>7</th>\n",
       "      <td>4680</td>\n",
       "      <td>2004-12-31</td>\n",
       "      <td>Jeopardy!</td>\n",
       "      <td>ESPN's TOP 10 ALL-TIME ATHLETES</td>\n",
       "      <td>$400</td>\n",
       "      <td>No. 8: 30 steals for the Birmingham Barons; 2,306 steals for the Bulls</td>\n",
       "      <td>Michael Jordan</td>\n",
       "    </tr>\n",
       "    <tr>\n",
       "      <th>8</th>\n",
       "      <td>4680</td>\n",
       "      <td>2004-12-31</td>\n",
       "      <td>Jeopardy!</td>\n",
       "      <td>EVERYBODY TALKS ABOUT IT...</td>\n",
       "      <td>$400</td>\n",
       "      <td>In the winter of 1971-72, a record 1,122 inches of snow fell at Rainier Paradise Ranger Station in this state</td>\n",
       "      <td>Washington</td>\n",
       "    </tr>\n",
       "    <tr>\n",
       "      <th>9</th>\n",
       "      <td>4680</td>\n",
       "      <td>2004-12-31</td>\n",
       "      <td>Jeopardy!</td>\n",
       "      <td>THE COMPANY LINE</td>\n",
       "      <td>$400</td>\n",
       "      <td>This housewares store was named for the packaging its merchandise came in &amp; was first displayed on</td>\n",
       "      <td>Crate &amp; Barrel</td>\n",
       "    </tr>\n",
       "    <tr>\n",
       "      <th>10</th>\n",
       "      <td>4680</td>\n",
       "      <td>2004-12-31</td>\n",
       "      <td>Jeopardy!</td>\n",
       "      <td>EPITAPHS &amp; TRIBUTES</td>\n",
       "      <td>$400</td>\n",
       "      <td>\"And away we go\"</td>\n",
       "      <td>Jackie Gleason</td>\n",
       "    </tr>\n",
       "    <tr>\n",
       "      <th>11</th>\n",
       "      <td>4680</td>\n",
       "      <td>2004-12-31</td>\n",
       "      <td>Jeopardy!</td>\n",
       "      <td>3-LETTER WORDS</td>\n",
       "      <td>$400</td>\n",
       "      <td>Cows regurgitate this from the first stomach to the mouth &amp; chew it again</td>\n",
       "      <td>the cud</td>\n",
       "    </tr>\n",
       "    <tr>\n",
       "      <th>12</th>\n",
       "      <td>4680</td>\n",
       "      <td>2004-12-31</td>\n",
       "      <td>Jeopardy!</td>\n",
       "      <td>HISTORY</td>\n",
       "      <td>$600</td>\n",
       "      <td>In 1000 Rajaraja I of the Cholas battled to take this Indian Ocean island now known for its tea</td>\n",
       "      <td>Ceylon (or Sri Lanka)</td>\n",
       "    </tr>\n",
       "    <tr>\n",
       "      <th>13</th>\n",
       "      <td>4680</td>\n",
       "      <td>2004-12-31</td>\n",
       "      <td>Jeopardy!</td>\n",
       "      <td>ESPN's TOP 10 ALL-TIME ATHLETES</td>\n",
       "      <td>$600</td>\n",
       "      <td>No. 1: Lettered in hoops, football &amp; lacrosse at Syracuse &amp; if you think he couldn't act, ask his 11 \"unclean\" buddies</td>\n",
       "      <td>Jim Brown</td>\n",
       "    </tr>\n",
       "    <tr>\n",
       "      <th>14</th>\n",
       "      <td>4680</td>\n",
       "      <td>2004-12-31</td>\n",
       "      <td>Jeopardy!</td>\n",
       "      <td>EVERYBODY TALKS ABOUT IT...</td>\n",
       "      <td>$600</td>\n",
       "      <td>On June 28, 1994 the nat'l weather service began issuing this index that rates the intensity of the sun's radiation</td>\n",
       "      <td>the UV index</td>\n",
       "    </tr>\n",
       "  </tbody>\n",
       "</table>\n",
       "</div>"
      ],
      "text/plain": [
       "    Show Number    Air Date      Round                         Category Value  \\\n",
       "0          4680  2004-12-31  Jeopardy!                          HISTORY  $200   \n",
       "1          4680  2004-12-31  Jeopardy!  ESPN's TOP 10 ALL-TIME ATHLETES  $200   \n",
       "2          4680  2004-12-31  Jeopardy!      EVERYBODY TALKS ABOUT IT...  $200   \n",
       "3          4680  2004-12-31  Jeopardy!                 THE COMPANY LINE  $200   \n",
       "4          4680  2004-12-31  Jeopardy!              EPITAPHS & TRIBUTES  $200   \n",
       "5          4680  2004-12-31  Jeopardy!                   3-LETTER WORDS  $200   \n",
       "6          4680  2004-12-31  Jeopardy!                          HISTORY  $400   \n",
       "7          4680  2004-12-31  Jeopardy!  ESPN's TOP 10 ALL-TIME ATHLETES  $400   \n",
       "8          4680  2004-12-31  Jeopardy!      EVERYBODY TALKS ABOUT IT...  $400   \n",
       "9          4680  2004-12-31  Jeopardy!                 THE COMPANY LINE  $400   \n",
       "10         4680  2004-12-31  Jeopardy!              EPITAPHS & TRIBUTES  $400   \n",
       "11         4680  2004-12-31  Jeopardy!                   3-LETTER WORDS  $400   \n",
       "12         4680  2004-12-31  Jeopardy!                          HISTORY  $600   \n",
       "13         4680  2004-12-31  Jeopardy!  ESPN's TOP 10 ALL-TIME ATHLETES  $600   \n",
       "14         4680  2004-12-31  Jeopardy!      EVERYBODY TALKS ABOUT IT...  $600   \n",
       "\n",
       "                                                                                                                  Question  \\\n",
       "0                         For the last 8 years of his life, Galileo was under house arrest for espousing this man's theory   \n",
       "1              No. 2: 1912 Olympian; football star at Carlisle Indian School; 6 MLB seasons with the Reds, Giants & Braves   \n",
       "2                                 The city of Yuma in this state has a record average of 4,055 hours of sunshine each year   \n",
       "3                                     In 1963, live on \"The Art Linkletter Show\", this company served its billionth burger   \n",
       "4                 Signer of the Dec. of Indep., framer of the Constitution of Mass., second President of the United States   \n",
       "5                                            In the title of an Aesop fable, this insect shared billing with a grasshopper   \n",
       "6                                             Built in 312 B.C. to link Rome & the South of Italy, it's still in use today   \n",
       "7                                                   No. 8: 30 steals for the Birmingham Barons; 2,306 steals for the Bulls   \n",
       "8            In the winter of 1971-72, a record 1,122 inches of snow fell at Rainier Paradise Ranger Station in this state   \n",
       "9                       This housewares store was named for the packaging its merchandise came in & was first displayed on   \n",
       "10                                                                                                        \"And away we go\"   \n",
       "11                                               Cows regurgitate this from the first stomach to the mouth & chew it again   \n",
       "12                         In 1000 Rajaraja I of the Cholas battled to take this Indian Ocean island now known for its tea   \n",
       "13  No. 1: Lettered in hoops, football & lacrosse at Syracuse & if you think he couldn't act, ask his 11 \"unclean\" buddies   \n",
       "14     On June 28, 1994 the nat'l weather service began issuing this index that rates the intensity of the sun's radiation   \n",
       "\n",
       "                   Answer  \n",
       "0              Copernicus  \n",
       "1              Jim Thorpe  \n",
       "2                 Arizona  \n",
       "3              McDonald's  \n",
       "4              John Adams  \n",
       "5                 the ant  \n",
       "6          the Appian Way  \n",
       "7          Michael Jordan  \n",
       "8              Washington  \n",
       "9          Crate & Barrel  \n",
       "10         Jackie Gleason  \n",
       "11                the cud  \n",
       "12  Ceylon (or Sri Lanka)  \n",
       "13              Jim Brown  \n",
       "14           the UV index  "
      ]
     },
     "execution_count": 10,
     "metadata": {},
     "output_type": "execute_result"
    }
   ],
   "source": [
    "df_jeopardy= df_jeopardy.rename(columns={\n",
    "    ' Air Date': 'Air Date',\n",
    "    ' Round': 'Round',\n",
    "    ' Category': 'Category',\n",
    "    ' Value': 'Value',\n",
    "    ' Question': 'Question',\n",
    "    ' Answer': 'Answer'\n",
    "})\n",
    "print(df_jeopardy.columns)\n",
    "df_jeopardy.head(15)"
   ]
  },
  {
   "cell_type": "markdown",
   "metadata": {},
   "source": [
    "2. Write a function that filters the dataset for questions that contains all of the words in a list of words. For example, when the list `[\"King\", \"England\"]` was passed to our function, the function returned a DataFrame of 49 rows. Every row had the strings `\"King\"` and `\"England\"` somewhere in its `\" Question\"`.\n",
    "\n",
    "   Test your function by printing out the column containing the question of each row of the dataset."
   ]
  },
  {
   "cell_type": "code",
   "execution_count": 25,
   "metadata": {},
   "outputs": [
    {
     "name": "stdout",
     "output_type": "stream",
     "text": [
      "56600    This city known for its 24-hour auto race was the birthplace of England's King Henry II in 1133\n",
      "Name: Question, dtype: object\n"
     ]
    }
   ],
   "source": [
    "#To be passed into function\n",
    "def filter_questions(df, words):\n",
    "    if not words:\n",
    "        return df\n",
    "    filtered_df = df.copy()\n",
    "    for word in words:\n",
    "        pattern = fr'\\b{word}\\b'\n",
    "        filtered_df = filtered_df[filtered_df['Question'].str.contains(pattern, na=False, case=False, regex=True)]\n",
    "    return filtered_df\n",
    "    \n",
    "test_list = ['King', 'England', 'city']\n",
    "filtered_df = filter_questions(df_jeopardy, test_list)\n",
    "print(filtered_df['Question'])\n",
    "\n"
   ]
  },
  {
   "cell_type": "markdown",
   "metadata": {},
   "source": [
    "3. Test your original function with a few different sets of words to try to find some ways your function breaks. Edit your function so it is more robust.\n",
    "\n",
    "   For example, think about capitalization. We probably want to find questions that contain the word `\"King\"` or `\"king\"`.\n",
    "   \n",
    "   You may also want to check to make sure you don't find rows that contain substrings of your given words. For example, our function found a question that didn't contain the word `\"king\"`, however it did contain the word `\"viking\"` &mdash; it found the `\"king\"` inside `\"viking\"`. Note that this also comes with some drawbacks &mdash; you would no longer find questions that contained words like `\"England's\"`."
   ]
  },
  {
   "cell_type": "code",
   "execution_count": 28,
   "metadata": {},
   "outputs": [
    {
     "name": "stdout",
     "output_type": "stream",
     "text": [
      "103477    It's a horse race for 3-year-olds, or the stiff hat with a rounded crown that you might wear there\n",
      "Name: Question, dtype: object\n"
     ]
    }
   ],
   "source": [
    "test_list2 = ['the', 'there', 'you', 'race']\n",
    "filtered_df = filter_questions(df_jeopardy, test_list2)\n",
    "print(filtered_df['Question'])"
   ]
  },
  {
   "cell_type": "markdown",
   "metadata": {},
   "source": [
    "4. We may want to eventually compute aggregate statistics, like `.mean()` on the `\" Value\"` column. But right now, the values in that column are strings. Convert the`\" Value\"` column to floats. If you'd like to, you can create a new column with float values.\n",
    "\n",
    "   Now that you can filter the dataset of question, use your new column that contains the float values of each question to find the \"difficulty\" of certain topics. For example, what is the average value of questions that contain the word `\"King\"`?\n",
    "   \n",
    "   Make sure to use the dataset that contains the float values as the dataset you use in your filtering function."
   ]
  },
  {
   "cell_type": "code",
   "execution_count": 38,
   "metadata": {},
   "outputs": [
    {
     "data": {
      "text/html": [
       "<div>\n",
       "<style scoped>\n",
       "    .dataframe tbody tr th:only-of-type {\n",
       "        vertical-align: middle;\n",
       "    }\n",
       "\n",
       "    .dataframe tbody tr th {\n",
       "        vertical-align: top;\n",
       "    }\n",
       "\n",
       "    .dataframe thead th {\n",
       "        text-align: right;\n",
       "    }\n",
       "</style>\n",
       "<table border=\"1\" class=\"dataframe\">\n",
       "  <thead>\n",
       "    <tr style=\"text-align: right;\">\n",
       "      <th></th>\n",
       "      <th>Show Number</th>\n",
       "      <th>Air Date</th>\n",
       "      <th>Round</th>\n",
       "      <th>Category</th>\n",
       "      <th>Value</th>\n",
       "      <th>Question</th>\n",
       "      <th>Answer</th>\n",
       "    </tr>\n",
       "  </thead>\n",
       "  <tbody>\n",
       "    <tr>\n",
       "      <th>0</th>\n",
       "      <td>4680</td>\n",
       "      <td>2004-12-31</td>\n",
       "      <td>Jeopardy!</td>\n",
       "      <td>HISTORY</td>\n",
       "      <td>200.0</td>\n",
       "      <td>For the last 8 years of his life, Galileo was under house arrest for espousing this man's theory</td>\n",
       "      <td>Copernicus</td>\n",
       "    </tr>\n",
       "    <tr>\n",
       "      <th>1</th>\n",
       "      <td>4680</td>\n",
       "      <td>2004-12-31</td>\n",
       "      <td>Jeopardy!</td>\n",
       "      <td>ESPN's TOP 10 ALL-TIME ATHLETES</td>\n",
       "      <td>200.0</td>\n",
       "      <td>No. 2: 1912 Olympian; football star at Carlisle Indian School; 6 MLB seasons with the Reds, Giants &amp; Braves</td>\n",
       "      <td>Jim Thorpe</td>\n",
       "    </tr>\n",
       "    <tr>\n",
       "      <th>2</th>\n",
       "      <td>4680</td>\n",
       "      <td>2004-12-31</td>\n",
       "      <td>Jeopardy!</td>\n",
       "      <td>EVERYBODY TALKS ABOUT IT...</td>\n",
       "      <td>200.0</td>\n",
       "      <td>The city of Yuma in this state has a record average of 4,055 hours of sunshine each year</td>\n",
       "      <td>Arizona</td>\n",
       "    </tr>\n",
       "    <tr>\n",
       "      <th>3</th>\n",
       "      <td>4680</td>\n",
       "      <td>2004-12-31</td>\n",
       "      <td>Jeopardy!</td>\n",
       "      <td>THE COMPANY LINE</td>\n",
       "      <td>200.0</td>\n",
       "      <td>In 1963, live on \"The Art Linkletter Show\", this company served its billionth burger</td>\n",
       "      <td>McDonald's</td>\n",
       "    </tr>\n",
       "    <tr>\n",
       "      <th>4</th>\n",
       "      <td>4680</td>\n",
       "      <td>2004-12-31</td>\n",
       "      <td>Jeopardy!</td>\n",
       "      <td>EPITAPHS &amp; TRIBUTES</td>\n",
       "      <td>200.0</td>\n",
       "      <td>Signer of the Dec. of Indep., framer of the Constitution of Mass., second President of the United States</td>\n",
       "      <td>John Adams</td>\n",
       "    </tr>\n",
       "    <tr>\n",
       "      <th>5</th>\n",
       "      <td>4680</td>\n",
       "      <td>2004-12-31</td>\n",
       "      <td>Jeopardy!</td>\n",
       "      <td>3-LETTER WORDS</td>\n",
       "      <td>200.0</td>\n",
       "      <td>In the title of an Aesop fable, this insect shared billing with a grasshopper</td>\n",
       "      <td>the ant</td>\n",
       "    </tr>\n",
       "    <tr>\n",
       "      <th>6</th>\n",
       "      <td>4680</td>\n",
       "      <td>2004-12-31</td>\n",
       "      <td>Jeopardy!</td>\n",
       "      <td>HISTORY</td>\n",
       "      <td>400.0</td>\n",
       "      <td>Built in 312 B.C. to link Rome &amp; the South of Italy, it's still in use today</td>\n",
       "      <td>the Appian Way</td>\n",
       "    </tr>\n",
       "    <tr>\n",
       "      <th>7</th>\n",
       "      <td>4680</td>\n",
       "      <td>2004-12-31</td>\n",
       "      <td>Jeopardy!</td>\n",
       "      <td>ESPN's TOP 10 ALL-TIME ATHLETES</td>\n",
       "      <td>400.0</td>\n",
       "      <td>No. 8: 30 steals for the Birmingham Barons; 2,306 steals for the Bulls</td>\n",
       "      <td>Michael Jordan</td>\n",
       "    </tr>\n",
       "    <tr>\n",
       "      <th>8</th>\n",
       "      <td>4680</td>\n",
       "      <td>2004-12-31</td>\n",
       "      <td>Jeopardy!</td>\n",
       "      <td>EVERYBODY TALKS ABOUT IT...</td>\n",
       "      <td>400.0</td>\n",
       "      <td>In the winter of 1971-72, a record 1,122 inches of snow fell at Rainier Paradise Ranger Station in this state</td>\n",
       "      <td>Washington</td>\n",
       "    </tr>\n",
       "    <tr>\n",
       "      <th>9</th>\n",
       "      <td>4680</td>\n",
       "      <td>2004-12-31</td>\n",
       "      <td>Jeopardy!</td>\n",
       "      <td>THE COMPANY LINE</td>\n",
       "      <td>400.0</td>\n",
       "      <td>This housewares store was named for the packaging its merchandise came in &amp; was first displayed on</td>\n",
       "      <td>Crate &amp; Barrel</td>\n",
       "    </tr>\n",
       "    <tr>\n",
       "      <th>10</th>\n",
       "      <td>4680</td>\n",
       "      <td>2004-12-31</td>\n",
       "      <td>Jeopardy!</td>\n",
       "      <td>EPITAPHS &amp; TRIBUTES</td>\n",
       "      <td>400.0</td>\n",
       "      <td>\"And away we go\"</td>\n",
       "      <td>Jackie Gleason</td>\n",
       "    </tr>\n",
       "    <tr>\n",
       "      <th>11</th>\n",
       "      <td>4680</td>\n",
       "      <td>2004-12-31</td>\n",
       "      <td>Jeopardy!</td>\n",
       "      <td>3-LETTER WORDS</td>\n",
       "      <td>400.0</td>\n",
       "      <td>Cows regurgitate this from the first stomach to the mouth &amp; chew it again</td>\n",
       "      <td>the cud</td>\n",
       "    </tr>\n",
       "    <tr>\n",
       "      <th>12</th>\n",
       "      <td>4680</td>\n",
       "      <td>2004-12-31</td>\n",
       "      <td>Jeopardy!</td>\n",
       "      <td>HISTORY</td>\n",
       "      <td>600.0</td>\n",
       "      <td>In 1000 Rajaraja I of the Cholas battled to take this Indian Ocean island now known for its tea</td>\n",
       "      <td>Ceylon (or Sri Lanka)</td>\n",
       "    </tr>\n",
       "    <tr>\n",
       "      <th>13</th>\n",
       "      <td>4680</td>\n",
       "      <td>2004-12-31</td>\n",
       "      <td>Jeopardy!</td>\n",
       "      <td>ESPN's TOP 10 ALL-TIME ATHLETES</td>\n",
       "      <td>600.0</td>\n",
       "      <td>No. 1: Lettered in hoops, football &amp; lacrosse at Syracuse &amp; if you think he couldn't act, ask his 11 \"unclean\" buddies</td>\n",
       "      <td>Jim Brown</td>\n",
       "    </tr>\n",
       "    <tr>\n",
       "      <th>14</th>\n",
       "      <td>4680</td>\n",
       "      <td>2004-12-31</td>\n",
       "      <td>Jeopardy!</td>\n",
       "      <td>EVERYBODY TALKS ABOUT IT...</td>\n",
       "      <td>600.0</td>\n",
       "      <td>On June 28, 1994 the nat'l weather service began issuing this index that rates the intensity of the sun's radiation</td>\n",
       "      <td>the UV index</td>\n",
       "    </tr>\n",
       "  </tbody>\n",
       "</table>\n",
       "</div>"
      ],
      "text/plain": [
       "    Show Number    Air Date      Round                         Category  \\\n",
       "0          4680  2004-12-31  Jeopardy!                          HISTORY   \n",
       "1          4680  2004-12-31  Jeopardy!  ESPN's TOP 10 ALL-TIME ATHLETES   \n",
       "2          4680  2004-12-31  Jeopardy!      EVERYBODY TALKS ABOUT IT...   \n",
       "3          4680  2004-12-31  Jeopardy!                 THE COMPANY LINE   \n",
       "4          4680  2004-12-31  Jeopardy!              EPITAPHS & TRIBUTES   \n",
       "5          4680  2004-12-31  Jeopardy!                   3-LETTER WORDS   \n",
       "6          4680  2004-12-31  Jeopardy!                          HISTORY   \n",
       "7          4680  2004-12-31  Jeopardy!  ESPN's TOP 10 ALL-TIME ATHLETES   \n",
       "8          4680  2004-12-31  Jeopardy!      EVERYBODY TALKS ABOUT IT...   \n",
       "9          4680  2004-12-31  Jeopardy!                 THE COMPANY LINE   \n",
       "10         4680  2004-12-31  Jeopardy!              EPITAPHS & TRIBUTES   \n",
       "11         4680  2004-12-31  Jeopardy!                   3-LETTER WORDS   \n",
       "12         4680  2004-12-31  Jeopardy!                          HISTORY   \n",
       "13         4680  2004-12-31  Jeopardy!  ESPN's TOP 10 ALL-TIME ATHLETES   \n",
       "14         4680  2004-12-31  Jeopardy!      EVERYBODY TALKS ABOUT IT...   \n",
       "\n",
       "    Value  \\\n",
       "0   200.0   \n",
       "1   200.0   \n",
       "2   200.0   \n",
       "3   200.0   \n",
       "4   200.0   \n",
       "5   200.0   \n",
       "6   400.0   \n",
       "7   400.0   \n",
       "8   400.0   \n",
       "9   400.0   \n",
       "10  400.0   \n",
       "11  400.0   \n",
       "12  600.0   \n",
       "13  600.0   \n",
       "14  600.0   \n",
       "\n",
       "                                                                                                                  Question  \\\n",
       "0                         For the last 8 years of his life, Galileo was under house arrest for espousing this man's theory   \n",
       "1              No. 2: 1912 Olympian; football star at Carlisle Indian School; 6 MLB seasons with the Reds, Giants & Braves   \n",
       "2                                 The city of Yuma in this state has a record average of 4,055 hours of sunshine each year   \n",
       "3                                     In 1963, live on \"The Art Linkletter Show\", this company served its billionth burger   \n",
       "4                 Signer of the Dec. of Indep., framer of the Constitution of Mass., second President of the United States   \n",
       "5                                            In the title of an Aesop fable, this insect shared billing with a grasshopper   \n",
       "6                                             Built in 312 B.C. to link Rome & the South of Italy, it's still in use today   \n",
       "7                                                   No. 8: 30 steals for the Birmingham Barons; 2,306 steals for the Bulls   \n",
       "8            In the winter of 1971-72, a record 1,122 inches of snow fell at Rainier Paradise Ranger Station in this state   \n",
       "9                       This housewares store was named for the packaging its merchandise came in & was first displayed on   \n",
       "10                                                                                                        \"And away we go\"   \n",
       "11                                               Cows regurgitate this from the first stomach to the mouth & chew it again   \n",
       "12                         In 1000 Rajaraja I of the Cholas battled to take this Indian Ocean island now known for its tea   \n",
       "13  No. 1: Lettered in hoops, football & lacrosse at Syracuse & if you think he couldn't act, ask his 11 \"unclean\" buddies   \n",
       "14     On June 28, 1994 the nat'l weather service began issuing this index that rates the intensity of the sun's radiation   \n",
       "\n",
       "                   Answer  \n",
       "0              Copernicus  \n",
       "1              Jim Thorpe  \n",
       "2                 Arizona  \n",
       "3              McDonald's  \n",
       "4              John Adams  \n",
       "5                 the ant  \n",
       "6          the Appian Way  \n",
       "7          Michael Jordan  \n",
       "8              Washington  \n",
       "9          Crate & Barrel  \n",
       "10         Jackie Gleason  \n",
       "11                the cud  \n",
       "12  Ceylon (or Sri Lanka)  \n",
       "13              Jim Brown  \n",
       "14           the UV index  "
      ]
     },
     "execution_count": 38,
     "metadata": {},
     "output_type": "execute_result"
    }
   ],
   "source": [
    "# First ensure the 'Value' column is treated as a string\n",
    "df_jeopardy['Value'] = df_jeopardy['Value'].astype(str)\n",
    "df_jeopardy['Value'] = df_jeopardy[\"Value\"].str.replace(\"$\", \"\").str.replace(\",\", \"\")\n",
    "df_jeopardy['Value'] = pd.to_numeric(df_jeopardy['Value'], errors='coerce')\n",
    "df_jeopardy.head(15)"
   ]
  },
  {
   "cell_type": "markdown",
   "metadata": {},
   "source": [
    "5. Write a function that returns the count of unique answers to all of the questions in a dataset. For example, after filtering the entire dataset to only questions containing the word `\"King\"`, we could then find all of the unique answers to those questions. The answer \"Henry VIII\" appeared 55 times and was the most common answer."
   ]
  },
  {
   "cell_type": "code",
   "execution_count": 36,
   "metadata": {},
   "outputs": [
    {
     "data": {
      "text/plain": [
       "Answer\n",
       "Chicago          138\n",
       "New Orleans      113\n",
       "San Francisco    100\n",
       "Paris             91\n",
       "Philadelphia      88\n",
       "Name: count, dtype: int64"
      ]
     },
     "execution_count": 36,
     "metadata": {},
     "output_type": "execute_result"
    }
   ],
   "source": [
    "def unique_answers(df, words):\n",
    "    filtered_df = filter_questions(df, words)\n",
    "    answer_counts = filtered_df['Answer'].value_counts()\n",
    "    return answer_counts\n",
    "\n",
    "df_test = unique_answers(df_jeopardy, ['city'])\n",
    "df_test.head()\n",
    "    \n",
    "    "
   ]
  },
  {
   "cell_type": "markdown",
   "metadata": {},
   "source": [
    "6. Explore from here! This is an incredibly rich dataset, and there are so many interesting things to discover. There are a few columns that we haven't even started looking at yet. Here are some ideas on ways to continue working with this data:\n",
    "\n",
    " * Investigate the ways in which questions change over time by filtering by the date. How many questions from the 90s use the word `\"Computer\"` compared to questions from the 2000s?\n",
    " * Is there a connection between the round and the category? Are you more likely to find certain categories, like `\"Literature\"` in Single Jeopardy or Double Jeopardy?\n",
    " * Build a system to quiz yourself. Grab random questions, and use the <a href=\"https://docs.python.org/3/library/functions.html#input\">input</a> function to get a response from the user. Check to see if that response was right or wrong."
   ]
  },
  {
   "cell_type": "code",
   "execution_count": 40,
   "metadata": {},
   "outputs": [
    {
     "name": "stdout",
     "output_type": "stream",
     "text": [
      "Questions from 90s which have 'computer' in it: 79\n",
      "Questions from 00s which have 'computer' in it: 227\n"
     ]
    }
   ],
   "source": [
    "df_jeopardy['Air Date'] = pd.to_datetime(df_jeopardy['Air Date'])\n",
    "df_90s = df_jeopardy[df_jeopardy['Air Date'].dt.year.between(1990, 1999)]\n",
    "df_00s = df_jeopardy[df_jeopardy['Air Date'].dt.year.between(2000, 2009)]\n",
    "\n",
    "computer_90s = filter_questions(df_90s, [\"Computer\"])\n",
    "computer_00s = filter_questions(df_00s, [\"Computer\"])\n",
    "print(f\"Questions from 90s which have 'computer' in it: {len(computer_90s)}\")\n",
    "print(f\"Questions from 00s which have 'computer' in it: {len(computer_00s)}\")"
   ]
  },
  {
   "cell_type": "code",
   "execution_count": 46,
   "metadata": {},
   "outputs": [
    {
     "name": "stdout",
     "output_type": "stream",
     "text": [
      "Round\n",
      "Double Jeopardy!    381\n",
      "Final Jeopardy!      10\n",
      "Jeopardy!           105\n",
      "dtype: int64\n"
     ]
    }
   ],
   "source": [
    "#Connection between Round and Category\n",
    "#print(df_jeopardy['Round'].unique())\n",
    "#print(df_jeopardy['Category'].unique())\n",
    "\n",
    "round_category_counts = df_jeopardy.groupby(['Round', 'Category']).size()\n",
    "#print(round_category_counts)\n",
    "\n",
    "literature_counts = df_jeopardy[df_jeopardy['Category'] == 'LITERATURE'].groupby('Round').size()\n",
    "print(literature_counts)\n"
   ]
  },
  {
   "cell_type": "code",
   "execution_count": 49,
   "metadata": {},
   "outputs": [
    {
     "name": "stdout",
     "output_type": "stream",
     "text": [
      "(216930, 7)\n"
     ]
    }
   ],
   "source": [
    "#Sytem to quiz\n",
    "import numpy as np\n",
    "print(df_jeopardy.shape)\n",
    "num_rows = df_jeopardy.shape[0]\n",
    "\n"
   ]
  },
  {
   "cell_type": "code",
   "execution_count": null,
   "metadata": {},
   "outputs": [
    {
     "name": "stdout",
     "output_type": "stream",
     "text": [
      "Here's a Jeopardy Question: Its most famous voyage was from September 16, 1620 to November 21, 1620?\n"
     ]
    }
   ],
   "source": [
    "\n",
    "random_num = np.random.randint(0, num_rows - 1)\n",
    "question = df_jeopardy['Question'].iloc[random_num]\n",
    "print(f\"Here's a Jeopardy Question: {question}?\")\n",
    "#How do i say for this question if answer is . . .\n",
    "\n",
    "correct_answer = df_jeopardy['Answer'].iloc[random_num]\n",
    "\n",
    "#Usage of for loop with an else block after\n",
    "for i in range(3):\n",
    "    answer = input(f\"Try {i+1}: \")\n",
    "    if answer.lower() == correct_answer.lower():\n",
    "        print(\"Correct\")\n",
    "        break\n",
    "    else:\n",
    "        print(\"Incorrect\")\n",
    "# If the user fails all attempts, reveal the correct answer\n",
    "else:\n",
    "     # This part executes only if the loop wasn't exited with a break\n",
    "    print(f\"The correct answer was: {correct_answer}\")\n"
   ]
  },
  {
   "cell_type": "markdown",
   "metadata": {},
   "source": [
    "## Solution"
   ]
  },
  {
   "cell_type": "markdown",
   "metadata": {},
   "source": [
    "7. Compare your program to our <a href=\"https://content.codecademy.com/PRO/independent-practice-projects/jeopardy/jeopardy_solution.zip\">sample solution code</a> - remember, that your program might look different from ours (and probably will) and that's okay!"
   ]
  },
  {
   "cell_type": "markdown",
   "metadata": {},
   "source": [
    "8. Great work! Visit <a href=\"https://discuss.codecademy.com/t/this-is-jeopardy-challenge-project-python-pandas/462365\">our forums</a> to compare your project to our sample solution code. You can also learn how to host your own solution on GitHub so you can share it with other learners! Your solution might look different from ours, and that's okay! There are multiple ways to solve these projects, and you'll learn more by seeing others' code."
   ]
  },
  {
   "cell_type": "code",
   "execution_count": null,
   "metadata": {},
   "outputs": [],
   "source": []
  }
 ],
 "metadata": {
  "kernelspec": {
   "display_name": "Python 3 (ipykernel)",
   "language": "python",
   "name": "python3"
  },
  "language_info": {
   "codemirror_mode": {
    "name": "ipython",
    "version": 3
   },
   "file_extension": ".py",
   "mimetype": "text/x-python",
   "name": "python",
   "nbconvert_exporter": "python",
   "pygments_lexer": "ipython3",
   "version": "3.11.5"
  }
 },
 "nbformat": 4,
 "nbformat_minor": 4
}
